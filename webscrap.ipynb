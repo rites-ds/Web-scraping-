{
 "cells": [
  {
   "cell_type": "code",
   "execution_count": 10,
   "id": "c168b979-a3cb-4407-9d9b-cc03787ca73c",
   "metadata": {},
   "outputs": [
    {
     "name": "stdin",
     "output_type": "stream",
     "text": [
      "Enter the URL to scrape:  https://groww.in/stocks/user/explore\n",
      "Is this a dynamic page (JavaScript-heavy)? (y/n):  n\n"
     ]
    },
    {
     "name": "stdout",
     "output_type": "stream",
     "text": [
      "Page Title: Invest in Stocks: Explore LIVE NSE/BSE on Groww\n",
      "\n",
      "All Text from the Page:\n",
      "Invest in Stocks: Explore LIVE NSE/BSE on GrowwIndicesAll indicesNIFTYLoading...Option chainTerminalSENSEXLoading...Option chainTerminalBANKNIFTYLoading...Option chainTerminalFINNIFTYLoading...Option chainTerminalMIDCPNIFTYLoading...Option chainTerminalBANKEXLoading...Option chainTerminalMost Bought on GrowwLoading...Products & toolsTop GainersSee moreLargeMidSmall There are no top gainers in this categoryTop LosersSee moreLargeMidSmall There are no top losers in this categoryTop SectorsSee moreBanking|41Energy|99Healthcare|235FMCG|222Automobile|145Tele-Communication|47Media & Entertainment|105Top by Market CapSee moreCompanyMarket PriceWatchlist12...5Vaishnavi Tech Park, 3rd & 4th FloorSarjapur Main Road, BellandurBengaluru – 560103Contact UsPRODUCTSStocksFutures & OptionsMTFIPOMutual FundsNFOETFCreditBill PaymentsGROWWAbout UsPricingBlogMedia & PressCareersHelp and SupportTrust and SafetyQUICK LINKSAMC Mutual FundsCalculatorsGlossaryOpen Demat AccountGroww DigestSitemapWeb Storiesⓒ 2016-2024 Groww. All rights reserved, Built with ♥in IndiaMOST POPULAR ON GROWWVERSION - 5.5.2STOCK MARKET INDICES:  S&P BSE SENSEX |  S&P BSE 100 |  NIFTY 100 |  NIFTY 50 |  NIFTY MIDCAP 100 |  NIFTY BANK |  NIFTY NEXT 50POPULAR MUTUAL FUNDS:  QUANT SMALL CAP FUND |  ICICI PRUDENTIAL COMMODITIES FUND |  NIPPON INDIA SMALL CAP FUND |  PARAG PARIKH FLEXI CAP FUND |  GROWW NIFTY TOTAL MARKET INDEX FUND |  SBI SMALL MIDCAP FUND |  TATA DIGITAL INDIA FUND |  AXIS SMALL CAP FUND |  ICICI PRUDENTIAL TECHNOLOGY FUND |  HDFC INDEX FUND SENSEX PLAN |  HDFC SMALL CAP FUND |  AXIS EQUITY FUND |  CANARA ROBECO SMALL CAP FUND |  TATA SMALL CAP FUND |  UTI NIFTY FUNDMUTUAL FUNDS COMPANIES:  GROWWMF |  SBI |  AXIS |  HDFC |  UTI |  NIPPON INDIA |  ICICI PRUDENTIAL |  TATA |  KOTAK |  DSP |  CANARA ROBECO |  SUNDARAM |  MIRAE ASSET |  IDFC |  FRANKLIN TEMPLETON |  PPFAS |  MOTILAL OSWAL |  INVESCO |  EDELWEISS |  ADITYA BIRLA SUN LIFE |  LIC |  HSBC |  NAVI |  QUANTUM |  UNION |  ITI |  MAHINDRA MANULIFE |  360 ONE |  BOI |  TAURUS |  JM FINANCIAL |  PGIM |  SHRIRAM |  BARODA BNP PARIBAS |  QUANT |  WHITEOAK CAPITAL |  TRUST |  SAMCO |  NJTOOLS:  BROKERAGE CALCULATOR |  MARGIN CALCULATOR |  SIP CALCULATOR |  SWP CALCULATOR |  SUKANYA SAMRIDDHI YOJANA CALCULATOR |  MUTUAL FUND RETURNS CALCULATOR |  FD CALCULATOR |  RD CALCULATOR |  EMI CALCULATOR |  PPF CALCULATOR |  EPF CALCULATOR |  NPS CALCULATOR |  GRATUITY CALCULATOROTHERS:  NSE |  BSE |  Terms and Conditions |  Policies and Procedures |  Regulatory & Other Info |  Privacy Policy |  Disclosure |  Bug Bounty |  Download Forms |  Investor Charter and Grievance |  Redressal of Investor Grievances\n"
     ]
    }
   ],
   "source": [
    "import requests\n",
    "from bs4 import BeautifulSoup\n",
    "from selenium import webdriver\n",
    "from selenium.webdriver.chrome.service import Service\n",
    "from webdriver_manager.chrome import ChromeDriverManager\n",
    "import time\n",
    "\n",
    "# Function to scrape static pages with BeautifulSoup\n",
    "def scrape_with_beautifulsoup(url):\n",
    "    try:\n",
    "        # Sending a GET request to the URL\n",
    "        response = requests.get(url)\n",
    "        \n",
    "        # Check if the request was successful\n",
    "        if response.status_code == 200:\n",
    "            soup = BeautifulSoup(response.content, 'html.parser')\n",
    "            \n",
    "            # Example: Extract and print all text from the page\n",
    "            print(\"Page Title:\", soup.title.string)\n",
    "            print(\"\\nAll Text from the Page:\")\n",
    "            print(soup.get_text())\n",
    "        else:\n",
    "            print(f\"Failed to retrieve the page. Status code: {response.status_code}\")\n",
    "    except Exception as e:\n",
    "        print(f\"An error occurred: {e}\")\n",
    "\n",
    "# Function to scrape dynamic pages with Selenium\n",
    "def scrape_with_selenium(url):\n",
    "    try:\n",
    "        # Initialize Selenium WebDriver (Chrome in this case)\n",
    "        driver = webdriver.Chrome(service=Service(ChromeDriverManager().install()))\n",
    "\n",
    "        # Open the URL in the browser\n",
    "        driver.get(url)\n",
    "        \n",
    "        # Give time for the page to load (adjust as needed)\n",
    "        time.sleep(5)\n",
    "        \n",
    "        # Example: Extract the page title\n",
    "        page_title = driver.title\n",
    "        print(f\"Page Title: {page_title}\")\n",
    "        \n",
    "        # Example: Extract and print all page content\n",
    "        page_content = driver.page_source\n",
    "        \n",
    "        soup = BeautifulSoup(page_content, 'html.parser')\n",
    "        print(\"\\nAll Text from the Page:\")\n",
    "        print(soup.get_text())\n",
    "        \n",
    "        # Close the browser\n",
    "        driver.quit()\n",
    "    except Exception as e:\n",
    "        print(f\"An error occurred: {e}\")\n",
    "\n",
    "# Main function to take input URL and decide scraping method\n",
    "def main():\n",
    "    url = input(\"Enter the URL to scrape: \")\n",
    "    \n",
    "    # Option 1: If the website is static (can be scraped with BeautifulSoup)\n",
    "    user_choice = input(\"Is this a dynamic page (JavaScript-heavy)? (y/n): \").lower()\n",
    "    \n",
    "    if user_choice == 'y':\n",
    "        # Use Selenium for dynamic content (JavaScript-heavy websites)\n",
    "        scrape_with_selenium(url)\n",
    "    else:\n",
    "        # Use BeautifulSoup for static content\n",
    "        scrape_with_beautifulsoup(url)\n",
    "\n",
    "if __name__ == \"__main__\":\n",
    "    main()\n"
   ]
  }
 ],
 "metadata": {
  "kernelspec": {
   "display_name": "Python 3 (ipykernel)",
   "language": "python",
   "name": "python3"
  },
  "language_info": {
   "codemirror_mode": {
    "name": "ipython",
    "version": 3
   },
   "file_extension": ".py",
   "mimetype": "text/x-python",
   "name": "python",
   "nbconvert_exporter": "python",
   "pygments_lexer": "ipython3",
   "version": "3.12.6"
  }
 },
 "nbformat": 4,
 "nbformat_minor": 5
}
