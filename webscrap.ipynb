{
 "cells": [
  {
   "cell_type": "code",
   "execution_count": 11,
   "id": "c168b979-a3cb-4407-9d9b-cc03787ca73c",
   "metadata": {},
   "outputs": [],
   "source": [
    "import requests"
   ]
  },
  {
   "cell_type": "code",
   "execution_count": 12,
   "id": "31bf0ced-2ed0-46c7-a017-86e450d7c9aa",
   "metadata": {},
   "outputs": [],
   "source": [
    "from bs4 import BeautifulSoup"
   ]
  },
  {
   "cell_type": "code",
   "execution_count": 13,
   "id": "dcd48401-57b8-44c4-88af-3e7c1886900e",
   "metadata": {},
   "outputs": [],
   "source": [
    "from selenium import webdriver"
   ]
  },
  {
   "cell_type": "code",
   "execution_count": 15,
   "id": "776c3dd1-470f-4616-b5b8-0118fa0ae282",
   "metadata": {},
   "outputs": [],
   "source": [
    "from selenium.webdriver.chrome.service import Service"
   ]
  },
  {
   "cell_type": "code",
   "execution_count": 16,
   "id": "13577dc7-1f2c-491c-ab37-82839c93a750",
   "metadata": {},
   "outputs": [],
   "source": [
    "from webdriver_manager.chrome import ChromeDriverManager"
   ]
  },
  {
   "cell_type": "code",
   "execution_count": 17,
   "id": "5fd621d9-8c42-4ac5-8697-ea7070fddfdc",
   "metadata": {},
   "outputs": [],
   "source": [
    "import time"
   ]
  },
  {
   "cell_type": "code",
   "execution_count": 18,
   "id": "dbd0a9a2-f0e2-4934-9dda-9eb0aadb88d2",
   "metadata": {},
   "outputs": [],
   "source": [
    "# Function to scrape static pages with BeautifulSoup\n",
    "def scrape_with_beautifulsoup(url):\n",
    "    try:\n",
    "        # Sending a GET request to the URL\n",
    "        response = requests.get(url)\n",
    "        \n",
    "        # Check if the request was successful\n",
    "        if response.status_code == 200:\n",
    "            soup = BeautifulSoup(response.content, 'html.parser')\n",
    "            \n",
    "            # Example: Extract and print all text from the page\n",
    "            print(\"Page Title:\", soup.title.string)\n",
    "            print(\"\\nAll Text from the Page:\")\n",
    "            print(soup.get_text())\n",
    "        else:\n",
    "            print(f\"Failed to retrieve the page. Status code: {response.status_code}\")\n",
    "    except Exception as e:\n",
    "        print(f\"An error occurred: {e}\")\n"
   ]
  },
  {
   "cell_type": "code",
   "execution_count": 19,
   "id": "34851b61-4026-4831-b3e5-46f6973bf57a",
   "metadata": {},
   "outputs": [],
   "source": [
    "# Function to scrape dynamic pages with Selenium\n",
    "def scrape_with_selenium(url):\n",
    "    try:\n",
    "        # Initialize Selenium WebDriver (Chrome in this case)\n",
    "        driver = webdriver.Chrome(service=Service(ChromeDriverManager().install()))\n",
    "\n",
    "        # Open the URL in the browser\n",
    "        driver.get(url)\n",
    "        \n",
    "        # Give time for the page to load (adjust as needed)\n",
    "        time.sleep(5)\n",
    "        \n",
    "        # Example: Extract the page title\n",
    "        page_title = driver.title\n",
    "        print(f\"Page Title: {page_title}\")\n",
    "        \n",
    "        # Example: Extract and print all page content\n",
    "        page_content = driver.page_source\n",
    "        \n",
    "        soup = BeautifulSoup(page_content, 'html.parser')\n",
    "        print(\"\\nAll Text from the Page:\")\n",
    "        print(soup.get_text())\n",
    "        \n",
    "        # Close the browser\n",
    "        driver.quit()\n",
    "    except Exception as e:\n",
    "        print(f\"An error occurred: {e}\")\n"
   ]
  },
  {
   "cell_type": "code",
   "execution_count": 20,
   "id": "59bfea27-1153-4780-927e-ac82f0394de4",
   "metadata": {},
   "outputs": [],
   "source": [
    "# Main function to take input URL and decide scraping method\n",
    "def main():\n",
    "    url = input(\"Enter the URL to scrape: \")\n",
    "    \n",
    "    # Option 1: If the website is static (can be scraped with BeautifulSoup)\n",
    "    user_choice = input(\"Is this a dynamic page (JavaScript-heavy)? (y/n): \").lower()\n",
    "    \n",
    "    if user_choice == 'y':\n",
    "        # Use Selenium for dynamic content (JavaScript-heavy websites)\n",
    "        scrape_with_selenium(url)\n",
    "    else:\n",
    "        # Use BeautifulSoup for static content\n",
    "        scrape_with_beautifulsoup(url)"
   ]
  },
  {
   "cell_type": "code",
   "execution_count": 21,
   "id": "85185659-f2e6-4eb4-bd7b-6ae811806570",
   "metadata": {},
   "outputs": [
    {
     "name": "stdin",
     "output_type": "stream",
     "text": [
      "Enter the URL to scrape:  https://www.coursera.org/programs/bca-bsc-it-specialization-and-industry-integrated-program-ss7y6?authProvider=graphic-era-deemed-to-be-university-dehradun\n",
      "Is this a dynamic page (JavaScript-heavy)? (y/n):  n\n"
     ]
    },
    {
     "name": "stdout",
     "output_type": "stream",
     "text": [
      "Page Title: BCA/BSC IT Specialization and Industry Integrated Program | Coursera\n",
      "\n",
      "All Text from the Page:\n",
      "BCA/BSC IT Specialization and Industry Integrated Program | Coursera\n",
      "\n",
      "\n",
      "\n",
      "\n",
      "\n",
      "Log InHomeShow notifications0HomeCategories:        BCA/BSC IT Specialization and Industry Integrated ProgramRecommended by your organizationEnroll in any course hand-picked by your organization. These courses cover topics and skills your organization is focused on improving.Recommended by CourseraView allEnroll in popular courses based on enrollment data and ratings by learners from a variety of industries across Coursera.Want to see more? View all recommendations from Coursera Coursera FooterGet Started with AIAWS & DLAI GenAI with LLMs CourseDLAI AI For Everyone CourseDLAI Deep Learning SpecializationDLAI NLP SpecializationGoogle AI Essentials CourseGoogle Cloud Introduction to Generative AI CourseIBM Generative AI Fundamentals SpecializationStanford AI in Healthcare SpecializationStanford Machine Learning SpecializationVanderbilt Prompt Engineering for ChatGPT CoursePopular Career CertificatesGoogle Cybersecurity Professional CertificateGoogle Data Analytics Professional CertificateGoogle Digital Marketing Professional CertificateGoogle Project Management Professional CertificateGoogle UX Design Professional CertificateIBM Data Analyst Professional CertificateIBM Data Science Professional CertificateMeta Front-End Developer Professional CertificateMicrosoft Power BI Data Analyst Professional CertificateAll Career CertificatesPopular SubjectsArtificial IntelligenceCybersecurityData AnalyticsData ScienceDigital MarketingGenerative AIMachine LearningMicrosoft ExcelProject ManagementPythonAll CoursesPopular ResourcesHow to Become a Data AnalystHow to Get a PMP CertificationPopular Cybersecurity CertificationsPopular Data Analytics CertificationsPopular IT CertificationsPopular Machine Learning CertificationsPopular SQL CertificationsGenAI for Software DevelopersGenAI for Data ProfessionalsCareer Insights & Advice HubCourseraAboutWhat We OfferLeadershipCareersCatalogCoursera PlusProfessional CertificatesMasterTrack® CertificatesDegreesFor EnterpriseFor GovernmentFor CampusBecome a PartnerSocial ImpactFree CoursesECTS Credit RecommendationsCommunityLearnersPartnersBeta TestersBlogThe Coursera PodcastTech BlogTeaching CenterMorePressInvestorsTermsPrivacyHelpAccessibilityContactArticlesDirectoryAffiliatesModern Slavery StatementManage Cookie PreferencesLearn Anywhere© 2024 Coursera Inc. All rights reserved.\n"
     ]
    }
   ],
   "source": [
    "if __name__ == \"__main__\":\n",
    "    main()"
   ]
  }
 ],
 "metadata": {
  "kernelspec": {
   "display_name": "Python 3 (ipykernel)",
   "language": "python",
   "name": "python3"
  },
  "language_info": {
   "codemirror_mode": {
    "name": "ipython",
    "version": 3
   },
   "file_extension": ".py",
   "mimetype": "text/x-python",
   "name": "python",
   "nbconvert_exporter": "python",
   "pygments_lexer": "ipython3",
   "version": "3.12.6"
  }
 },
 "nbformat": 4,
 "nbformat_minor": 5
}
